{
  "nbformat": 4,
  "nbformat_minor": 0,
  "metadata": {
    "colab": {
      "name": "pythonで学ぶ音源分離",
      "provenance": [],
      "collapsed_sections": [],
      "authorship_tag": "ABX9TyMHoENsFL88TLtmlE3FYknf",
      "include_colab_link": true
    },
    "kernelspec": {
      "name": "python3",
      "display_name": "Python 3"
    }
  },
  "cells": [
    {
      "cell_type": "markdown",
      "metadata": {
        "id": "view-in-github",
        "colab_type": "text"
      },
      "source": [
        "<a href=\"https://colab.research.google.com/github/johntronik/python_sound_source_separation/blob/master/python%E3%81%A7%E5%AD%A6%E3%81%B6%E9%9F%B3%E6%BA%90%E5%88%86%E9%9B%A2.ipynb\" target=\"_parent\"><img src=\"https://colab.research.google.com/assets/colab-badge.svg\" alt=\"Open In Colab\"/></a>"
      ]
    },
    {
      "cell_type": "markdown",
      "metadata": {
        "id": "8OfRAnprpfCh",
        "colab_type": "text"
      },
      "source": [
        "「pythonで学ぶ音源分離」の自分で実装したところ\n",
        "\n",
        "https://github.com/masahitotogami/python_source_separation\n"
      ]
    },
    {
      "cell_type": "markdown",
      "metadata": {
        "id": "raNxh2lHj3KH",
        "colab_type": "text"
      },
      "source": [
        "2章 38P\n",
        "\n",
        "ハニング窓\n",
        "\n",
        "$w(n)=0.5-0.5\\cos(\\frac{2\\pi n}{N-1})$\n",
        "\n",
        "* $0\\le n\\le N-1$\n",
        "* $N$はフレームサイズ（サンプルの総数）\n",
        "* $n$はフレームの先頭から数えたサンプル数"
      ]
    },
    {
      "cell_type": "code",
      "metadata": {
        "id": "OX_VTADJkfPe",
        "colab_type": "code",
        "colab": {}
      },
      "source": [
        "import numpy as np\n",
        "from matplotlib import pyplot as plt"
      ],
      "execution_count": null,
      "outputs": []
    },
    {
      "cell_type": "code",
      "metadata": {
        "id": "XLIEQ7Hhjua6",
        "colab_type": "code",
        "colab": {}
      },
      "source": [
        "def hanning(n, N):\n",
        "  return 0.5 - 0.5*np.cos(2*np.pi*n / (N-1))"
      ],
      "execution_count": null,
      "outputs": []
    },
    {
      "cell_type": "code",
      "metadata": {
        "id": "DuYCf6NRlCkB",
        "colab_type": "code",
        "colab": {
          "base_uri": "https://localhost:8080/",
          "height": 282
        },
        "outputId": "21899d0e-9658-40b2-b998-adbf8fb4ca7f"
      },
      "source": [
        "x = np.arange(100)\n",
        "y = hanning(x,100)\n",
        "plt.plot(x,y)"
      ],
      "execution_count": null,
      "outputs": [
        {
          "output_type": "execute_result",
          "data": {
            "text/plain": [
              "[<matplotlib.lines.Line2D at 0x7fb85f07e630>]"
            ]
          },
          "metadata": {
            "tags": []
          },
          "execution_count": 18
        },
        {
          "output_type": "display_data",
          "data": {
            "image/png": "[encoded data removed]",
            "text/plain": [
              "<Figure size 432x288 with 1 Axes>"
            ]
          },
          "metadata": {
            "tags": [],
            "needs_background": "light"
          }
        }
      ]
    },
    {
      "cell_type": "markdown",
      "metadata": {
        "id": "brnU0iqsmBgz",
        "colab_type": "text"
      },
      "source": [
        "ハミング窓\n",
        "\n",
        "$w(n)=0.54-0.46\\cos (\\frac{2\\pi n}{N-1})$"
      ]
    },
    {
      "cell_type": "code",
      "metadata": {
        "id": "Uc8cb0UEl2PM",
        "colab_type": "code",
        "colab": {}
      },
      "source": [
        "def hamming(n, N):\n",
        "  return 0.54 - 0.46*np.cos(2*np.pi*n / (N-1))"
      ],
      "execution_count": null,
      "outputs": []
    },
    {
      "cell_type": "code",
      "metadata": {
        "id": "4LahMx8imV_l",
        "colab_type": "code",
        "colab": {
          "base_uri": "https://localhost:8080/",
          "height": 282
        },
        "outputId": "0f07c24c-c50f-4787-c517-d523c0e98a30"
      },
      "source": [
        "x = np.arange(100)\n",
        "y = hamming(x,100)\n",
        "plt.plot(x,y)"
      ],
      "execution_count": null,
      "outputs": [
        {
          "output_type": "execute_result",
          "data": {
            "text/plain": [
              "[<matplotlib.lines.Line2D at 0x7fb85efedf28>]"
            ]
          },
          "metadata": {
            "tags": []
          },
          "execution_count": 21
        },
        {
          "output_type": "display_data",
          "data": {
            "image/png": "[encoded data removed]",
            "text/plain": [
              "<Figure size 432x288 with 1 Axes>"
            ]
          },
          "metadata": {
            "tags": [],
            "needs_background": "light"
          }
        }
      ]
    },
    {
      "cell_type": "code",
      "metadata": {
        "id": "QMwH676fmbMZ",
        "colab_type": "code",
        "colab": {
          "base_uri": "https://localhost:8080/",
          "height": 282
        },
        "outputId": "3e36ee0e-6e04-44f2-db74-b495244a03b3"
      },
      "source": [
        "x = np.arange(100)\n",
        "y1 = hamming(x,100)\n",
        "plt.plot(x,y1,label='hamming')\n",
        "\n",
        "y2 = hanning(x,100)\n",
        "plt.plot(x,y2,label='hanning')\n",
        "plt.legend()"
      ],
      "execution_count": null,
      "outputs": [
        {
          "output_type": "execute_result",
          "data": {
            "text/plain": [
              "<matplotlib.legend.Legend at 0x7fb85ec6eac8>"
            ]
          },
          "metadata": {
            "tags": []
          },
          "execution_count": 27
        },
        {
          "output_type": "display_data",
          "data": {
            "image/png": "[encoded data removed]",
            "text/plain": [
              "<Figure size 432x288 with 1 Axes>"
            ]
          },
          "metadata": {
            "tags": [],
            "needs_background": "light"
          }
        }
      ]
    },
    {
      "cell_type": "code",
      "metadata": {
        "id": "SUu94KNZmyos",
        "colab_type": "code",
        "colab": {}
      },
      "source": [
        ""
      ],
      "execution_count": null,
      "outputs": []
    },
    {
      "cell_type": "code",
      "metadata": {
        "id": "1p9qB17srrGT",
        "colab_type": "code",
        "colab": {}
      },
      "source": [
        ""
      ],
      "execution_count": null,
      "outputs": []
    },
    {
      "cell_type": "code",
      "metadata": {
        "id": "5cM7W1sSr68r",
        "colab_type": "code",
        "colab": {}
      },
      "source": [
        ""
      ],
      "execution_count": null,
      "outputs": []
    }
  ]
}